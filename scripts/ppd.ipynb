{
 "cells": [
  {
   "cell_type": "markdown",
   "id": "0",
   "metadata": {},
   "source": [
    "# Plot the phase plane diagram and SAL weight evolution (fig 2d and e)"
   ]
  },
  {
   "cell_type": "code",
   "execution_count": null,
   "id": "1",
   "metadata": {},
   "outputs": [],
   "source": [
    "from pathlib import Path\n",
    "\n",
    "import numpy as np\n",
    "import matplotlib as mpl\n",
    "import matplotlib.pyplot as plt\n",
    "from tqdm import tqdm\n",
    "from tqdm.contrib.itertools import product\n",
    "\n",
    "from neuralsampling.network import sim_poisson_neurons, rect_kernel\n",
    "from neuralsampling.stdp_functions import pairbased_stdp, exp_kernel\n",
    "from stddc.distr import calc_dt_distr, rect_PSP"
   ]
  },
  {
   "cell_type": "code",
   "execution_count": null,
   "id": "2",
   "metadata": {},
   "outputs": [],
   "source": [
    "# define the style etc.\n",
    "mpl.style.use(\"../mystyle.mpl\")"
   ]
  },
  {
   "cell_type": "code",
   "execution_count": null,
   "id": "3",
   "metadata": {},
   "outputs": [],
   "source": [
    "FIG_DIR = Path(\"../figs\")\n",
    "FIG_DIR.mkdir(parents=True, exist_ok=True)"
   ]
  },
  {
   "cell_type": "code",
   "execution_count": null,
   "id": "4",
   "metadata": {},
   "outputs": [],
   "source": [
    "# (re-)run the simulations or load the cached simulation result files:\n",
    "RUNSIMULATION = True"
   ]
  },
  {
   "cell_type": "markdown",
   "id": "5",
   "metadata": {},
   "source": [
    "## Plot the weight evolution of weight symmetrization (fig. 2d)\n",
    "\n",
    "The two neuron system is run twice:\n",
    "1. SAL is applied to both weights such they converge to their common mean.\n",
    "2. SAL is applied to one weight only which converges to the other weight."
   ]
  },
  {
   "cell_type": "code",
   "execution_count": null,
   "id": "6",
   "metadata": {},
   "outputs": [],
   "source": [
    "FIGWIDTH = 2.5"
   ]
  },
  {
   "cell_type": "code",
   "execution_count": null,
   "id": "7",
   "metadata": {},
   "outputs": [],
   "source": [
    "np.random.seed(45)\n",
    "\n",
    "def sal_epoch(w, b, params):\n",
    "\n",
    "    spks = sim_poisson_neurons(\n",
    "        params[\"t_max\"], rect_kernel, b, w, params[\"t_ref\"], params[\"t_ref\"]\n",
    "    )\n",
    "    kernel_args = (-1.0, 1.0, params[\"t_ref\"], params[\"t_ref\"])\n",
    "    stdp_sal = pairbased_stdp(exp_kernel, kernel_args, spks, 2, 10)\n",
    "    return stdp_sal / params[\"t_max\"] * params[\"t_ref\"]\n",
    "\n",
    "\n",
    "def run_sal(w, b, params, lr, n_epochs):\n",
    "    \"\"\"SAL is applied to both weights here.\"\"\"\n",
    "    all_ws = [w]\n",
    "    for i in tqdm(range(n_epochs)):\n",
    "        dw = sal_epoch(w, b, params)\n",
    "        w = w + lr * dw\n",
    "        all_ws.append(w)\n",
    "    return np.array(all_ws)\n",
    "\n",
    "def run_sal2(w, b, params, lr, n_epochs):\n",
    "    \"\"\"SAL is applied to one weight only.\"\"\"\n",
    "    all_ws = [w]\n",
    "    for i in tqdm(range(n_epochs)):\n",
    "        dw = sal_epoch(w, b, params)\n",
    "        dw[0, 1] = 0.\n",
    "        w = w + lr * dw\n",
    "        all_ws.append(w)\n",
    "    return np.array(all_ws)"
   ]
  },
  {
   "cell_type": "code",
   "execution_count": null,
   "id": "8",
   "metadata": {},
   "outputs": [],
   "source": [
    "## Run first simulation (SAL affects both weights)\n",
    "\n",
    "w = np.array([[0.0, 1.5], [0.5, 0.0]])\n",
    "b = np.array([-0.5, -0.2])\n",
    "params = {\n",
    "    \"t_max\": 1500,\n",
    "    \"t_ref\": 25,\n",
    "}\n",
    "    \n",
    "lr = 0.03\n",
    "n_epochs = 1500\n",
    "\n",
    "if RUNSIMULATION:\n",
    "    all_w = run_sal(w, b, params, lr, n_epochs)\n",
    "    np.save(\"weight_evo\", all_w)\n",
    "else:\n",
    "    all_w = np.load(\"weight_evo.npy\")"
   ]
  },
  {
   "cell_type": "code",
   "execution_count": null,
   "id": "9",
   "metadata": {},
   "outputs": [],
   "source": [
    "## Run second simulation (SAL affects only one weight)\n",
    "\n",
    "w = np.array([[0.0, 1.5], [0.5, 0.0]])\n",
    "b = np.array([-0.5, -0.2])\n",
    "params = {\n",
    "    \"t_max\": 1500,\n",
    "    \"t_ref\": 25,\n",
    "}\n",
    "\n",
    "lr = 0.03\n",
    "n_epochs = 1500\n",
    "\n",
    "if RUNSIMULATION:\n",
    "    all_w2 = run_sal2(w, b, params, lr, n_epochs)\n",
    "    np.save(\"weight_evo2\", all_w2)\n",
    "else:\n",
    "    all_w2 = np.load(\"weight_evo2.npy\")"
   ]
  },
  {
   "cell_type": "code",
   "execution_count": null,
   "id": "10",
   "metadata": {},
   "outputs": [],
   "source": [
    "## Plot the time evolultion of the weights in both cases.\n",
    "\n",
    "times = np.linspace(0, 1, all_w.shape[0]) * params[\"t_max\"] / params[\"t_ref\"] * n_epochs * 0.01 \n",
    "fig, ax = plt.subplots(1, 1, figsize=(FIGWIDTH, FIGWIDTH / 1.8), layout=\"constrained\")\n",
    "steps = np.s_[::10]\n",
    "ax.plot(times[steps], all_w[steps, 1, 0], color=\"darkred\")\n",
    "ax.plot(times[steps], all_w[steps, 0, 1], color=\"red\", linestyle=\"--\")\n",
    "ax.plot(times[steps], all_w2[steps, 1, 0], color=\"dimgray\", label=r\"$W_{ji}$\")\n",
    "ax.plot(times[steps], all_w2[steps, 0, 1], color=\"darkgray\", linestyle=\"--\", label=r\"$W_{ij}$\")\n",
    "ax.set_xlabel(r\"$t$ [s]\")\n",
    "ax.set_ylabel(r\"$W$ [s]\")\n",
    "# ax.legend(bbox_to_anchor=(1.05, 1), loc=\"upper left\", borderaxespad=0.)\n",
    "fig.legend(loc=\"outside upper center\", ncols=2)\n",
    "fig.savefig(FIG_DIR / \"sal_evol.png\", bbox_inches='tight')\n",
    "fig.savefig(FIG_DIR / \"sal_evol.pdf\", bbox_inches='tight')\n",
    "fig.savefig(FIG_DIR / \"sal_evol.svg\", bbox_inches='tight')"
   ]
  },
  {
   "cell_type": "markdown",
   "id": "11",
   "metadata": {},
   "source": [
    "## Plot the phase plane diagram in fig. 2e"
   ]
  },
  {
   "cell_type": "code",
   "execution_count": null,
   "id": "12",
   "metadata": {},
   "outputs": [],
   "source": [
    "def exp_kernel_2(dt, a_plus, a_minus, tau_plus, tau_minus):\n",
    "    \"\"\"Exponential STDP window for SAL.\"\"\"\n",
    "    if dt > 0.0:\n",
    "        return a_plus * np.exp(-dt / tau_plus)\n",
    "    elif dt < 0.0:\n",
    "        return a_minus * np.exp(dt / tau_minus)\n",
    "    else:\n",
    "        return 0.0\n",
    "\n",
    "\n",
    "vexp_kernel = np.vectorize(exp_kernel_2)\n",
    "\n",
    "\n",
    "def plot_ppd(fig, ax, range_weights, dw_12, dw_21, color):\n",
    "    \"\"\"Plotting routine for phase plane diagrams\n",
    "    Takes the Delta weights (2-dim array) and the weight range (1-dim array)\n",
    "    and plots the arrow field and the update magnitude as color map. Marks also\n",
    "    all attractors and repellors.\n",
    "    \"\"\"\n",
    "    ax.grid()\n",
    "    abs_stdp = np.sqrt(dw_12**2 + dw_21**2)\n",
    "\n",
    "    ax.set_aspect(\"equal\")\n",
    "    cm = plt.get_cmap(\"GnBu\")\n",
    "\n",
    "    im = ax.contourf(\n",
    "        range_weights,\n",
    "        range_weights,\n",
    "        abs_stdp / np.max(abs_stdp),\n",
    "        15,\n",
    "        alpha=0.9,\n",
    "        cmap=cm,\n",
    "    )\n",
    "    fig.colorbar(\n",
    "        im,\n",
    "        label=r\"$\\sqrt{\\Delta W_{ij}^2 + \\Delta W_{ji}^2}$\",\n",
    "        ax=ax,\n",
    "        ticks=[0.0, 0.5, 1.0],\n",
    "    )\n",
    "\n",
    "    quiv = ax.quiver(\n",
    "        range_weights[::2],\n",
    "        range_weights[::2],\n",
    "        dw_12[::2, ::2],\n",
    "        dw_21[::2, ::2],\n",
    "        pivot=\"mid\",\n",
    "    )\n",
    "\n",
    "    # ax.contour(range_weights, range_weights, dw_12, [0.], colors='red')\n",
    "    ax.contour(range_weights, range_weights, dw_21, [0.0], colors=color)\n",
    "\n",
    "    ax.set_xlabel(r\"$W_{ij}$\")\n",
    "    ax.set_ylabel(r\"$W_{ji}$\")\n",
    "    # ax.plot([range_weights[0], range_weights[-1]],\n",
    "    #         [range_weights[0], range_weights[-1]], 'k--')\n",
    "\n",
    "    ax.set_xticks(ax.get_yticks())\n",
    "\n",
    "    return fig, ax"
   ]
  },
  {
   "cell_type": "code",
   "execution_count": null,
   "id": "13",
   "metadata": {},
   "outputs": [],
   "source": [
    "# create the stdds on a grid:\n",
    "\n",
    "TREF = 25\n",
    "TMAX = 2 * TREF\n",
    "\n",
    "w_range = np.arange(-2, 2.1, 0.25)\n",
    "n_range = len(w_range)\n",
    "\n",
    "\n",
    "if RUNSIMULATION:\n",
    "    stdd_grid = np.empty((n_range, n_range, 2 * TMAX - 1))\n",
    "    for i, j in product(range(n_range), range(n_range)):\n",
    "        print(\"W_12 = \", w_range[i], \", W_21 = \", w_range[j])\n",
    "        stdd = calc_dt_distr(\n",
    "            rect_PSP, TREF, TMAX, w_range[i], w_range[j], 0.0, 0.0, TREF\n",
    "        )\n",
    "        stdd_grid[i, j] = stdd\n",
    "    np.save(\"stdd_grid\", stdd_grid)\n",
    "else:\n",
    "    stdd_grid = np.load(\"stdd_grid.npy\")"
   ]
  },
  {
   "cell_type": "code",
   "execution_count": null,
   "id": "14",
   "metadata": {},
   "outputs": [],
   "source": [
    "# apply the sal-rule\n",
    "ts = np.arange(-TMAX + 1, TMAX, dtype=float)\n",
    "stdp_kernel = vexp_kernel(ts, -1.0, 1.0, TREF, TREF)\n",
    "\n",
    "sal_12 = np.sum(stdd_grid * stdp_kernel[None, None, :], axis=2)\n",
    "sal_21 = np.sum(stdd_grid * stdp_kernel[None, None, ::-1], axis=2)"
   ]
  },
  {
   "cell_type": "code",
   "execution_count": null,
   "id": "15",
   "metadata": {},
   "outputs": [],
   "source": [
    "## plot the figure:\n",
    "\n",
    "fig, ax = plt.subplots(1, 1, figsize=(FIGWIDTH, FIGWIDTH * 0.7), layout=\"constrained\")\n",
    "\n",
    "# plot the PPD itself.\n",
    "fig, ax = plot_ppd(fig, ax, w_range, sal_12, sal_21, \"blue\")\n",
    "\n",
    "# add the traces of the simulation above:\n",
    "ax.plot(all_w[:, 0, 1], all_w[:, 1, 0], color=\"darkred\", linestyle=\"--\", label=\"example trajectory in d)\")\n",
    "ax.plot(all_w[:1, 0, 1], all_w[:1, 1, 0], marker=\"o\", color=\"darkred\")\n",
    "ax.plot(all_w2[:, 0, 1], all_w2[:, 1, 0], color=\"dimgray\", linestyle=\"--\", label=\"example trajectory in d)\")\n",
    "ax.plot(all_w2[:1, 0, 1], all_w2[:1, 1, 0], marker=\"s\", ms=3, color=\"dimgray\")\n",
    "\n",
    "fig.savefig(FIG_DIR / \"sal_ppd.pdf\", bbox_inches='tight')\n",
    "fig.savefig(FIG_DIR / \"sal_ppd.svg\", bbox_inches='tight')\n",
    "fig.savefig(FIG_DIR / \"sal_ppd.png\", bbox_inches='tight')"
   ]
  },
  {
   "cell_type": "code",
   "execution_count": null,
   "id": "16",
   "metadata": {},
   "outputs": [],
   "source": []
  }
 ],
 "metadata": {
  "kernelspec": {
   "display_name": "sal",
   "language": "python",
   "name": "sal"
  },
  "language_info": {
   "codemirror_mode": {
    "name": "ipython",
    "version": 3
   },
   "file_extension": ".py",
   "mimetype": "text/x-python",
   "name": "python",
   "nbconvert_exporter": "python",
   "pygments_lexer": "ipython3",
   "version": "3.11.11"
  }
 },
 "nbformat": 4,
 "nbformat_minor": 5
}
