{
 "cells": [
  {
   "cell_type": "code",
   "execution_count": null,
   "id": "0",
   "metadata": {},
   "outputs": [],
   "source": [
    "from pathlib import Path\n",
    "\n",
    "import numpy as np\n",
    "import matplotlib as mpl\n",
    "import matplotlib.pyplot as plt\n",
    "from scipy.integrate import trapezoid\n",
    "\n",
    "from stddc import STDDMaker, alpha_PSP, rect_PSP, exp_PSP"
   ]
  },
  {
   "cell_type": "code",
   "execution_count": null,
   "id": "1",
   "metadata": {},
   "outputs": [],
   "source": [
    "# define the style etc.\n",
    "mpl.style.use(\"../mystyle.mpl\")"
   ]
  },
  {
   "cell_type": "code",
   "execution_count": null,
   "id": "c0f07f43-189d-48b2-a4d7-c99bdba16ff1",
   "metadata": {},
   "outputs": [],
   "source": [
    "FIG_DIR = Path(\"../figs\")\n",
    "FIG_DIR.mkdir(parents=True, exist_ok=True)"
   ]
  },
  {
   "cell_type": "code",
   "execution_count": null,
   "id": "2",
   "metadata": {},
   "outputs": [],
   "source": [
    "def delta(p_0, p_eps):\n",
    "    return p_eps - p_0 - (p_eps[::-1] - p_0[::-1])\n",
    "\n",
    "def big_delta(delta):\n",
    "    res = []\n",
    "    for i in range(1, len(delta)):\n",
    "        res.append(trapezoid(delta[:i]))\n",
    "    return res"
   ]
  },
  {
   "cell_type": "code",
   "execution_count": null,
   "id": "3",
   "metadata": {},
   "outputs": [],
   "source": [
    "w_12 = 0.5\n",
    "w_21 = 0.5\n",
    "b_1 = 0.\n",
    "b_2 = 1.\n",
    "\n",
    "esp = 0.05\n",
    "\n",
    "tref = 40\n",
    "tmax = 2 * tref\n",
    "tau_syn = 40\n",
    "\n",
    "sm_0 = STDDMaker(rect_PSP, t_max=tmax, t_ref=tref, t_syn=tau_syn, w_12=w_12, w_21=w_21, b_1=b_1, b_2=b_2)\n",
    "p_0 = sm_0.calc_stdd(fill_middle=\"smooth\")\n",
    "\n",
    "sm_eps = STDDMaker(rect_PSP, t_max=tmax, t_ref=tref, t_syn=tau_syn, w_12=w_12+esp, w_21=w_21-esp, b_1=b_1, b_2=b_2)\n",
    "p_eps = sm_eps.calc_stdd(fill_middle=\"smooth\")\n",
    "\n",
    "d = delta(p_0, p_eps)[tmax-1:]\n",
    "\n",
    "print(\"Int delta = \", trapezoid(d))"
   ]
  },
  {
   "cell_type": "code",
   "execution_count": null,
   "id": "4",
   "metadata": {},
   "outputs": [],
   "source": [
    "fig, ax = plt.subplots(figsize=(2, 1.2))\n",
    "\n",
    "ax.set_xticks([0, tref])\n",
    "ax.set_xticklabels([\"0\", r\"$\\tau_\\mathrm{ref}$\"])\n",
    "ax.set_yticks([0])\n",
    "ax.set_ylabel(r\"$\\delta(t)$\")\n",
    "ax.grid()\n",
    "\n",
    "# Hide the y-axis\n",
    "ax.spines['left'].set_visible(True)\n",
    "ax.spines['right'].set_visible(False)\n",
    "ax.spines['top'].set_visible(False)\n",
    "\n",
    "# Only show the bottom spine (x-axis)\n",
    "ax.spines['bottom'].set_visible(True)\n",
    "\n",
    "ax.plot(d)\n",
    "plt.tight_layout()\n",
    "\n",
    "fig.savefig(FIG_DIR / \"proof_delta_exc.png\", bbox_inches='tight', pad_inches=0.02)\n",
    "fig.savefig(FIG_DIR / \"proof_delta_exc.pdf\", bbox_inches='tight', pad_inches=0.02)\n",
    "fig.savefig(FIG_DIR / \"proof_delta_exc.svg\", bbox_inches='tight', pad_inches=0.02)\n"
   ]
  },
  {
   "cell_type": "code",
   "execution_count": null,
   "id": "5",
   "metadata": {},
   "outputs": [],
   "source": [
    "fig, ax = plt.subplots(figsize=(2, 1.1))\n",
    "\n",
    "ax.set_xticks([0, tref])\n",
    "ax.set_xticklabels([\"0\", r\"$\\tau_\\mathrm{ref}$\"])\n",
    "ax.set_yticks([0])\n",
    "ax.set_ylabel(r\"$\\Delta(t)$\")\n",
    "ax.set_xlabel(r\"$t$\")\n",
    "\n",
    "# Hide the y-axis\n",
    "ax.spines['left'].set_visible(True)\n",
    "ax.spines['right'].set_visible(False)\n",
    "ax.spines['top'].set_visible(False)\n",
    "\n",
    "# Only show the bottom spine (x-axis)\n",
    "ax.spines['bottom'].set_visible(True)\n",
    "\n",
    "ax.plot(big_delta(d))\n",
    "plt.tight_layout()\n",
    "\n",
    "fig.savefig(FIG_DIR / \"proof_big_delta_exc.png\", bbox_inches='tight', pad_inches=0.02)\n",
    "fig.savefig(FIG_DIR / \"proof_big_delta_exc.pdf\", bbox_inches='tight', pad_inches=0.02)\n",
    "fig.savefig(FIG_DIR / \"proof_big_delta_exc.svg\", bbox_inches='tight', pad_inches=0.02)"
   ]
  },
  {
   "cell_type": "code",
   "execution_count": null,
   "id": "6",
   "metadata": {},
   "outputs": [],
   "source": [
    "w_12 = -0.5\n",
    "w_21 = -0.5\n",
    "b_1 = 0.\n",
    "b_2 = 1.\n",
    "\n",
    "esp = 0.05\n",
    "\n",
    "tref = 40\n",
    "tmax = 2 * tref\n",
    "tau_syn = 40\n",
    "\n",
    "sm_0 = STDDMaker(rect_PSP, t_max=tmax, t_ref=tref, t_syn=tau_syn, w_12=w_12, w_21=w_21, b_1=b_1, b_2=b_2)\n",
    "p_0 = sm_0.calc_stdd(fill_middle=\"smooth\")\n",
    "\n",
    "sm_eps = STDDMaker(rect_PSP, t_max=tmax, t_ref=tref, t_syn=tau_syn, w_12=w_12+esp, w_21=w_21-esp, b_1=b_1, b_2=b_2)\n",
    "p_eps = sm_eps.calc_stdd(fill_middle=\"smooth\")\n",
    "\n",
    "d = delta(p_0, p_eps)[tmax-1:]\n",
    "\n",
    "print(\"Int delta = \", trapezoid(d))"
   ]
  },
  {
   "cell_type": "code",
   "execution_count": null,
   "id": "7",
   "metadata": {},
   "outputs": [],
   "source": [
    "fig, ax = plt.subplots(figsize=(2, 1.2))\n",
    "\n",
    "ax.set_xticks([0, tref])\n",
    "ax.set_xticklabels([\"0\", r\"$\\tau_\\mathrm{ref}$\"])\n",
    "ax.set_yticks([0])\n",
    "ax.set_ylabel(r\"$\\delta(t)$\")\n",
    "ax.grid()\n",
    "\n",
    "# Hide the y-axis\n",
    "ax.spines['left'].set_visible(True)\n",
    "ax.spines['right'].set_visible(False)\n",
    "ax.spines['top'].set_visible(False)\n",
    "\n",
    "# Only show the bottom spine (x-axis)\n",
    "ax.spines['bottom'].set_visible(True)\n",
    "\n",
    "ax.plot(d)\n",
    "plt.tight_layout()\n",
    "\n",
    "fig.savefig(FIG_DIR / \"proof_delta_inh.png\", bbox_inches='tight', pad_inches=0.02)\n",
    "fig.savefig(FIG_DIR / \"proof_delta_inh.pdf\", bbox_inches='tight', pad_inches=0.02)\n",
    "fig.savefig(FIG_DIR / \"proof_delta_inh.svg\", bbox_inches='tight', pad_inches=0.02)"
   ]
  },
  {
   "cell_type": "code",
   "execution_count": null,
   "id": "8",
   "metadata": {},
   "outputs": [],
   "source": [
    "fig, ax = plt.subplots(figsize=(2, 1.1))\n",
    "\n",
    "ax.set_xticks([0, tref])\n",
    "ax.set_xticklabels([\"0\", r\"$\\tau_\\mathrm{ref}$\"])\n",
    "ax.set_yticks([0])\n",
    "ax.set_ylabel(r\"$\\Delta(t)$\")\n",
    "ax.set_xlabel(r\"$t$\")\n",
    "\n",
    "# Hide the y-axis\n",
    "ax.spines['left'].set_visible(True)\n",
    "ax.spines['right'].set_visible(False)\n",
    "ax.spines['top'].set_visible(False)\n",
    "\n",
    "# Only show the bottom spine (x-axis)\n",
    "ax.spines['bottom'].set_visible(True)\n",
    "\n",
    "ax.plot(big_delta(d))\n",
    "plt.tight_layout()\n",
    "\n",
    "fig.savefig(FIG_DIR / \"proof_big_delta_inh.png\", bbox_inches='tight', pad_inches=0.02)\n",
    "fig.savefig(FIG_DIR / \"proof_big_delta_inh.pdf\", bbox_inches='tight', pad_inches=0.02)\n",
    "fig.savefig(FIG_DIR / \"proof_big_delta_inh.svg\", bbox_inches='tight', pad_inches=0.02)"
   ]
  }
 ],
 "metadata": {
  "kernelspec": {
   "display_name": "sal-official",
   "language": "python",
   "name": "sal-official"
  },
  "language_info": {
   "codemirror_mode": {
    "name": "ipython",
    "version": 3
   },
   "file_extension": ".py",
   "mimetype": "text/x-python",
   "name": "python",
   "nbconvert_exporter": "python",
   "pygments_lexer": "ipython3",
   "version": "3.11.11"
  }
 },
 "nbformat": 4,
 "nbformat_minor": 5
}
